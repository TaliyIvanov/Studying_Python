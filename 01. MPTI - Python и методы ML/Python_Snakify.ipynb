{
 "cells": [
  {
   "cell_type": "markdown",
   "id": "3f598058",
   "metadata": {},
   "source": [
    "Данный ноутбук - конспект и мой прогресс по обучению языку Python на курсах от МФТИ - DataScientist. Нужен он, чтобы я всегда мог повторить все, что изучил и лучше обучаться.\n",
    "\n",
    "Основные задачи на курсе решаются на сайте: https://snakify.org/en/\n",
    "\n",
    "В данном ноутбуке по мере прохождения я буду прикладывать ссылки на дополнительные материалы по мере изучения языка, а так же здесь будут мои решения задач.\n",
    "\n",
    "Полезные ссылки:\n",
    "1. [Документация Python](https://docs.python.org/3/)"
   ]
  },
  {
   "cell_type": "markdown",
   "id": "c3546a12",
   "metadata": {},
   "source": [
    "# Lesson 1 - Input, print and numbers\n",
    "---\n",
    "[Ссылка на урок на snakify](https://snakify.org/en/lessons/print_input_numbers/)\n",
    "\n",
    "[Ссылка на документацию Python 7.Input and Output](https://docs.python.org/3/tutorial/inputoutput.html#fancier-output-formatting)\n",
    "\n",
    "[Ссылка на документацию Python 3.1. Using Python as a Calculator](https://docs.python.org/3.11/tutorial/introduction.html#using-python-as-a-calculator)"
   ]
  },
  {
   "cell_type": "markdown",
   "id": "37c66b37",
   "metadata": {},
   "source": [
    "## Theory\n",
    "---\n",
    "[Ссылка на раздел урока](https://snakify.org/en/lessons/print_input_numbers/)"
   ]
  },
  {
   "cell_type": "markdown",
   "id": "322fe7ed",
   "metadata": {},
   "source": [
    "### How to read and write in Python\n",
    "---\n",
    "Every program is eventually a data processor, so we should know how to input and output data within it. There exists a function, print(), to output data from any Python program. To use it, pass a comma separated list of arguments that you want to print to the print() function. Let's see an example. Press \"run\" and then \"next\" to see how the program is being executed line by line:"
   ]
  },
  {
   "cell_type": "code",
   "execution_count": 2,
   "id": "f7b90ef3",
   "metadata": {},
   "outputs": [
    {
     "name": "stdout",
     "output_type": "stream",
     "text": [
      "15\n"
     ]
    }
   ],
   "source": [
    "print(5 + 10)"
   ]
  },
  {
   "cell_type": "code",
   "execution_count": 3,
   "id": "3731c16d",
   "metadata": {},
   "outputs": [
    {
     "name": "stdout",
     "output_type": "stream",
     "text": [
      "21 120\n"
     ]
    }
   ],
   "source": [
    "print(3 * 7, (17 - 2) * 8)"
   ]
  },
  {
   "cell_type": "code",
   "execution_count": 7,
   "id": "1ede0e75",
   "metadata": {},
   "outputs": [
    {
     "name": "stdout",
     "output_type": "stream",
     "text": [
      "65536\n"
     ]
    }
   ],
   "source": [
    "#Возведение в степень\n",
    "print(2 ** 16)  # two stars are used for exponentiation (2 to the power of 16)"
   ]
  },
  {
   "cell_type": "code",
   "execution_count": 8,
   "id": "f2b268ba",
   "metadata": {},
   "outputs": [
    {
     "name": "stdout",
     "output_type": "stream",
     "text": [
      "12.333333333333334\n"
     ]
    }
   ],
   "source": [
    "#Операция деления\n",
    "print(37 / 3)  # single forward slash is a division"
   ]
  },
  {
   "cell_type": "code",
   "execution_count": 10,
   "id": "fa52c3cd",
   "metadata": {},
   "outputs": [
    {
     "name": "stdout",
     "output_type": "stream",
     "text": [
      "12\n"
     ]
    }
   ],
   "source": [
    "#Операция целочисленного деления\n",
    "print(37 // 3)  # double forward slash is an integer division\n",
    "        # it returns only the quotient of the division (i.e. no remainder)"
   ]
  },
  {
   "cell_type": "code",
   "execution_count": 12,
   "id": "df350eb6",
   "metadata": {},
   "outputs": [
    {
     "name": "stdout",
     "output_type": "stream",
     "text": [
      "1\n"
     ]
    }
   ],
   "source": [
    "#Получение остатка от целочисленного деления\n",
    "print(37 % 3)  # percent sign is a modulus operator\n",
    "        # it gives the remainder of the left value divided by the right value"
   ]
  },
  {
   "cell_type": "markdown",
   "id": "111b3de3",
   "metadata": {},
   "source": [
    "To input data into a program, we use input(). This function reads a single line of text, as a String.\n",
    "\n",
    "Here's a program that reads the user's name and greets them:"
   ]
  },
  {
   "cell_type": "code",
   "execution_count": 17,
   "id": "1a4fdeec",
   "metadata": {},
   "outputs": [
    {
     "name": "stdout",
     "output_type": "stream",
     "text": [
      "What is yout name?\n",
      "Vitaliy\n",
      "Hi, Vitaliy!\n"
     ]
    }
   ],
   "source": [
    "print('What is yout name?')\n",
    "name = input()  # read a single line and store it in the variable \"name\"\n",
    "print('Hi, ' + name + '!')"
   ]
  },
  {
   "cell_type": "markdown",
   "id": "ab6e6fea",
   "metadata": {},
   "source": [
    "### Sum of numbers and strings"
   ]
  },
  {
   "cell_type": "markdown",
   "id": "edc99c57",
   "metadata": {},
   "source": [
    "Let's try to write a program that inputs two numbers and prints their sum. We read the two numbers and store them in the variables a and b using the assignment operator =. On the left side of an assignment operator we put the name of the variable. The name could be a string of latin characters (A-Z, a-z, 0-9, _) but must start with a letter in the range A-Z or a-z. On the right side of an assignment operator we put any expression that Python can evaluate. The name starts pointing to the result of the evaluation. Read this example, run it and look at the output:"
   ]
  },
  {
   "cell_type": "code",
   "execution_count": 18,
   "id": "e336aff0",
   "metadata": {},
   "outputs": [
    {
     "name": "stdout",
     "output_type": "stream",
     "text": [
      "5\n",
      "7\n",
      "57\n"
     ]
    }
   ],
   "source": [
    "a = input()\n",
    "b = input()\n",
    "s = a + b\n",
    "print(s)"
   ]
  },
  {
   "cell_type": "markdown",
   "id": "ed65090e",
   "metadata": {},
   "source": [
    "After running the example we can see that it prints 57. As we were taught in school, 5 + 7 gives 12. So, the program is wrong, and it's important to understand why. The thing is, in the third line s = a + b Python has \"summed\" two strings, rather than two numbers. The sum of two strings in Python works as follows: they are just glued one after another. It's also sometimes called \"string concatenation\".\n",
    "\n",
    "Do you see in the variable inspector, on the right hand side, that the values bound to variables a and b are wrapped in quotes? That means that the values there are string, not numbers. Strings and numbers are represented in Python differently.\n",
    "\n",
    "All the values in Python are called \"objects\". Every object has a certain type. The number 2 corresponds to an object \"number 2\" of type \"int\" (i.e., an integer number). The string 'hello' corresponds to an object \"string 'hello'\" of type \"str\". Every floating-point number is represented as an object of type \"float\". The type of an object specifies what kind of operations may be applied to it. For instance, if the two variables \"first\" and \"second\" are pointing to the objects of type int, Python can multiply them. However, if they are pointing to the objects of type str, Python can't do that:"
   ]
  },
  {
   "cell_type": "code",
   "execution_count": 19,
   "id": "10933aca",
   "metadata": {},
   "outputs": [
    {
     "name": "stdout",
     "output_type": "stream",
     "text": [
      "35\n"
     ]
    }
   ],
   "source": [
    "first = 5\n",
    "second = 7\n",
    "print(first * second)"
   ]
  },
  {
   "cell_type": "code",
   "execution_count": 20,
   "id": "d142cc1a",
   "metadata": {},
   "outputs": [
    {
     "ename": "TypeError",
     "evalue": "can't multiply sequence by non-int of type 'str'",
     "output_type": "error",
     "traceback": [
      "\u001b[1;31m---------------------------------------------------------------------------\u001b[0m",
      "\u001b[1;31mTypeError\u001b[0m                                 Traceback (most recent call last)",
      "Input \u001b[1;32mIn [20]\u001b[0m, in \u001b[0;36m<cell line: 4>\u001b[1;34m()\u001b[0m\n\u001b[0;32m      2\u001b[0m first \u001b[38;5;241m=\u001b[39m \u001b[38;5;124m'\u001b[39m\u001b[38;5;124m5\u001b[39m\u001b[38;5;124m'\u001b[39m\n\u001b[0;32m      3\u001b[0m second \u001b[38;5;241m=\u001b[39m \u001b[38;5;124m\"\u001b[39m\u001b[38;5;124m7\u001b[39m\u001b[38;5;124m\"\u001b[39m\n\u001b[1;32m----> 4\u001b[0m \u001b[38;5;28mprint\u001b[39m(\u001b[43mfirst\u001b[49m\u001b[43m \u001b[49m\u001b[38;5;241;43m*\u001b[39;49m\u001b[43m \u001b[49m\u001b[43msecond\u001b[49m)\n",
      "\u001b[1;31mTypeError\u001b[0m: can't multiply sequence by non-int of type 'str'"
     ]
    }
   ],
   "source": [
    "# you can use single or double quotes to define a string\n",
    "first = '5'\n",
    "second = \"7\"\n",
    "print(first * second)"
   ]
  },
  {
   "cell_type": "markdown",
   "id": "3fdea200",
   "metadata": {},
   "source": [
    "To cast (convert) the string of digits into an integer number, we can use the function int(). For example, int('23') gives an int object with value 23.\n",
    "\n",
    "Given the information above, we can now fix the incorrect output and output the sum of the two numbers correctly:"
   ]
  },
  {
   "cell_type": "code",
   "execution_count": 21,
   "id": "7926f535",
   "metadata": {},
   "outputs": [
    {
     "name": "stdout",
     "output_type": "stream",
     "text": [
      "7\n",
      "5\n",
      "12\n"
     ]
    }
   ],
   "source": [
    "a = int(input())\n",
    "b = int(input())\n",
    "s = a + b\n",
    "print(s)"
   ]
  },
  {
   "cell_type": "markdown",
   "id": "6ea3898d",
   "metadata": {},
   "source": [
    "## Steps\n",
    "---\n",
    "[Ссылка на раздел урока](https://snakify.org/en/lessons/print_input_numbers/steps/1/)"
   ]
  },
  {
   "cell_type": "markdown",
   "id": "93b9b1b1",
   "metadata": {},
   "source": [
    "#### It's all about the data\n",
    "---\n",
    "Every program deals with data. It can take some data for input, and it can output something. So we should know how to input data into it and how to output.\n",
    "\n",
    "There's the function print() to output data from a Python program."
   ]
  },
  {
   "cell_type": "code",
   "execution_count": 22,
   "id": "fb17b5fc",
   "metadata": {},
   "outputs": [
    {
     "name": "stdout",
     "output_type": "stream",
     "text": [
      "15\n"
     ]
    }
   ],
   "source": [
    "print(5 + 10)"
   ]
  },
  {
   "cell_type": "markdown",
   "id": "fde95bf7",
   "metadata": {},
   "source": [
    "#### Your own. Personal. Calculator.\n",
    "---\n",
    "Of course you can perform any other mathematical operations!\n",
    "\n",
    "**Instructions**:\n",
    "1. Type in the program window: print(7 - 3)\n",
    "2. Then delete the previous code, type print(4 * 5)\n",
    "3. Then delete the previous code, type print(5 / 3)"
   ]
  },
  {
   "cell_type": "code",
   "execution_count": 23,
   "id": "faa0da11",
   "metadata": {},
   "outputs": [
    {
     "name": "stdout",
     "output_type": "stream",
     "text": [
      "4\n"
     ]
    }
   ],
   "source": [
    "print(7 - 3)"
   ]
  },
  {
   "cell_type": "code",
   "execution_count": 24,
   "id": "d680532e",
   "metadata": {},
   "outputs": [
    {
     "name": "stdout",
     "output_type": "stream",
     "text": [
      "20\n"
     ]
    }
   ],
   "source": [
    "print(4 * 5)"
   ]
  },
  {
   "cell_type": "code",
   "execution_count": 25,
   "id": "22098054",
   "metadata": {},
   "outputs": [
    {
     "name": "stdout",
     "output_type": "stream",
     "text": [
      "1.6666666666666667\n"
     ]
    }
   ],
   "source": [
    "print(5 / 3)"
   ]
  },
  {
   "cell_type": "markdown",
   "id": "1b0b30dd",
   "metadata": {},
   "source": [
    "#### Reach out and touch faith.\n",
    "---\n",
    "We are excited to show you some more mathematical operations. In Python, you can easily calculate the value of some number to the power of another number. How to calculate 216 (2 to the power of 16)? Just type in: print(2 ** 16)\n",
    "\n",
    "**Instructions**\n",
    "1. Type in: print(2 ** 16) and press \"Run\"."
   ]
  },
  {
   "cell_type": "code",
   "execution_count": 27,
   "id": "4861529b",
   "metadata": {},
   "outputs": [
    {
     "name": "stdout",
     "output_type": "stream",
     "text": [
      "65536\n"
     ]
    }
   ],
   "source": [
    "print(2 ** 16)"
   ]
  },
  {
   "cell_type": "markdown",
   "id": "22495262",
   "metadata": {},
   "source": [
    "#### Weird arithmetic comes in\n",
    "---\n",
    "Moreover, you can perform integer division and division with remainder. If you are interested in an integer result of division, you print print(37 // 3). If you are interested in the remainder, you print print(37 % 3).\n",
    "\n",
    "**Instructions**\n",
    "1. Type in the program window: print(37 // 3)\n",
    "2. Then delete the previous code and type print(37 % 3)\n"
   ]
  },
  {
   "cell_type": "code",
   "execution_count": 28,
   "id": "0e59d8f1",
   "metadata": {},
   "outputs": [
    {
     "name": "stdout",
     "output_type": "stream",
     "text": [
      "12\n"
     ]
    }
   ],
   "source": [
    "print(37 // 3)"
   ]
  },
  {
   "cell_type": "code",
   "execution_count": 29,
   "id": "122dabf9",
   "metadata": {},
   "outputs": [
    {
     "name": "stdout",
     "output_type": "stream",
     "text": [
      "1\n"
     ]
    }
   ],
   "source": [
    "print(37 % 3)"
   ]
  },
  {
   "cell_type": "markdown",
   "id": "bc447a7e",
   "metadata": {},
   "source": [
    "So, // sign is integer division; % returns you the remainder of the left value divided by the right value. 37 = 12 * 3 + 1, and this is why 37 // 3 = 12 and 37 % 3 = 1."
   ]
  },
  {
   "cell_type": "markdown",
   "id": "3a7fea57",
   "metadata": {},
   "source": [
    "#### print(a, b, c)\n",
    "---\n",
    "You may print any number of values on one line.\n",
    "\n",
    "**Instructions**\n",
    "1. Just type print(3*7, (17 - 2) * 8) to see how this works."
   ]
  },
  {
   "cell_type": "code",
   "execution_count": 30,
   "id": "fea8df0a",
   "metadata": {},
   "outputs": [
    {
     "name": "stdout",
     "output_type": "stream",
     "text": [
      "21 120\n"
     ]
    }
   ],
   "source": [
    "print(3 * 7, (17 - 2) * 8)"
   ]
  },
  {
   "cell_type": "markdown",
   "id": "04437d8f",
   "metadata": {},
   "source": [
    "#### Come together! Right now...\n",
    "---\n",
    "Now carnival ends, and they come to the scene all together:"
   ]
  },
  {
   "cell_type": "code",
   "execution_count": 32,
   "id": "5cfcc085",
   "metadata": {},
   "outputs": [
    {
     "name": "stdout",
     "output_type": "stream",
     "text": [
      "15\n",
      "4\n",
      "20\n",
      "1.6666666666666667\n",
      "65536\n",
      "12.333333333333334\n",
      "12\n",
      "1\n",
      "21 120\n"
     ]
    }
   ],
   "source": [
    "print(5 + 10)\n",
    "print(7 - 3)\n",
    "print(4 * 5)\n",
    "print(5 / 3)\n",
    "print(2 ** 16)\n",
    "print(37 / 3)\n",
    "print(37 // 3)\n",
    "print(37 % 3)\n",
    "print(3 * 7, (17 - 2) * 8)"
   ]
  },
  {
   "cell_type": "markdown",
   "id": "a5d656c8",
   "metadata": {},
   "source": [
    "#### ...over me!\n",
    "---\n",
    "Note that you are allowed\n",
    "- to make spaces between the lines\n",
    "- to make spaces inside any line"
   ]
  },
  {
   "cell_type": "code",
   "execution_count": 33,
   "id": "cfd44f83",
   "metadata": {},
   "outputs": [
    {
     "name": "stdout",
     "output_type": "stream",
     "text": [
      "15\n",
      "4\n",
      "20\n",
      "1.6666666666666667\n",
      "65536\n",
      "12.333333333333334\n",
      "12\n",
      "1\n",
      "21 120\n"
     ]
    }
   ],
   "source": [
    "print(5 + 10)\n",
    "print(7 - 3      )\n",
    "print(4*     5)\n",
    "\n",
    "print(5 / 3)\n",
    "print(2 ** 16)  # two stars are used for exponentiation\n",
    "\n",
    "print(37  / 3)  # single forward slash is a division\n",
    "\n",
    "\n",
    "\n",
    "print(37 // 3)\n",
    "print           (37 % 3)\n",
    "print(  3  * 7, (  17 - 2) *   8)\n"
   ]
  },
  {
   "cell_type": "markdown",
   "id": "b11ce6e2",
   "metadata": {},
   "source": [
    "#### Your marvellous comments\n",
    "---\n",
    "See the English phrases after the sign #? They don't look like the other code. They are just text, they are remarks.\n",
    "\n",
    "They are called comments. A comment is text. You write comments to clarify what happens in the code. If Python sees the sign #, it ignores the rest of the line and starts reading the next line, so feel free to write anything after the sign #.\n",
    "\n",
    "In another words, comments are explanatory text that has no effect on program execution. This text starts with # and lasts till the end of the line."
   ]
  },
  {
   "cell_type": "code",
   "execution_count": 36,
   "id": "9a37e371",
   "metadata": {},
   "outputs": [
    {
     "name": "stdout",
     "output_type": "stream",
     "text": [
      "15\n",
      "4\n",
      "20\n",
      "1.6666666666666667\n",
      "65536\n",
      "12.333333333333334\n",
      "12\n",
      "1\n",
      "21 120\n"
     ]
    }
   ],
   "source": [
    "# This program prints ton of numbers.\n",
    "print(5 + 10)  #Комментарий №1\n",
    "print(7 - 3)\n",
    "print(4 * 5)\n",
    "print(5 / 3)\n",
    "print(2 ** 16)  # two stars are used for exponentiation\n",
    "print(37 / 3)  # single forward slash is a division\n",
    "print(37 // 3)\n",
    "print(37 % 3)\n",
    "print(3 * 7, (17 - 2) * 8)"
   ]
  },
  {
   "cell_type": "markdown",
   "id": "7d87788b",
   "metadata": {},
   "source": [
    "#### Say what you think of Scott and Mary\n",
    "---\n",
    "**Instructions**\n",
    "1. Try to write your own comment about Scott and Mary. Then press \"Run\".\n",
    "\n",
    "Remember that comments start with #."
   ]
  },
  {
   "cell_type": "code",
   "execution_count": 38,
   "id": "a181814e",
   "metadata": {},
   "outputs": [
    {
     "name": "stdout",
     "output_type": "stream",
     "text": [
      "Scott + Mary = peace, love and death metal\n"
     ]
    }
   ],
   "source": [
    "print(\"Scott + Mary = peace, love and death metal\")"
   ]
  },
  {
   "cell_type": "code",
   "execution_count": 41,
   "id": "60a28dc0",
   "metadata": {},
   "outputs": [],
   "source": [
    "#\"Scott + Mary = peace, love and death metal\""
   ]
  },
  {
   "cell_type": "markdown",
   "id": "f1d73c6f",
   "metadata": {},
   "source": [
    "#### The Oscar goes to you\n",
    "---\n",
    "**Instructions**\n",
    "1. Now print the remainder of the division of 41 by 7."
   ]
  },
  {
   "cell_type": "code",
   "execution_count": 43,
   "id": "21966868",
   "metadata": {},
   "outputs": [
    {
     "name": "stdout",
     "output_type": "stream",
     "text": [
      "6\n"
     ]
    }
   ],
   "source": [
    "print(41 % 7)"
   ]
  },
  {
   "cell_type": "markdown",
   "id": "1bd5fec1",
   "metadata": {},
   "source": [
    "#### The task, it goes to you\n",
    "---\n",
    "**Instructions**\n",
    "1. Now print 3^5."
   ]
  },
  {
   "cell_type": "code",
   "execution_count": 44,
   "id": "5354d435",
   "metadata": {},
   "outputs": [
    {
     "name": "stdout",
     "output_type": "stream",
     "text": [
      "243\n"
     ]
    }
   ],
   "source": [
    "print(3 ** 5)"
   ]
  },
  {
   "cell_type": "markdown",
   "id": "c0c307fd",
   "metadata": {},
   "source": [
    "#### The task for Elon Musk\n",
    "---\n",
    "**Instructions**\n",
    "1. Now print 5 % (101 % 3) and (76 // 3) * 4 on one line."
   ]
  },
  {
   "cell_type": "code",
   "execution_count": 45,
   "id": "1c260ddb",
   "metadata": {},
   "outputs": [
    {
     "name": "stdout",
     "output_type": "stream",
     "text": [
      "1 100\n"
     ]
    }
   ],
   "source": [
    "print( 5 % (101 % 3), (76 // 3) * 4)"
   ]
  },
  {
   "cell_type": "markdown",
   "id": "f458b425",
   "metadata": {},
   "source": [
    "#### Know how to input\n",
    "---\n",
    "So far, this section was empty in our programs.\n",
    "\n",
    "But as a serious programmer, you will want to make some of your programs universal: each time you launch them, you will want to pass different data to input. (Generally, that means you will get different data at output.)\n",
    "\n",
    "To read your data from input, the function input() exists."
   ]
  },
  {
   "cell_type": "code",
   "execution_count": 46,
   "id": "640564bd",
   "metadata": {},
   "outputs": [
    {
     "name": "stdout",
     "output_type": "stream",
     "text": [
      "Значение, которое я ввожу)))\n",
      "Значение, которое я ввожу)))\n"
     ]
    }
   ],
   "source": [
    "print(input())"
   ]
  },
  {
   "cell_type": "markdown",
   "id": "4d76124d",
   "metadata": {},
   "source": [
    "#### What you input is always a string\n",
    "---\n",
    "The function input() reads your input as a string. Even if you typed 23."
   ]
  },
  {
   "cell_type": "code",
   "execution_count": 51,
   "id": "947d6e99",
   "metadata": {},
   "outputs": [
    {
     "name": "stdout",
     "output_type": "stream",
     "text": [
      "23\n",
      "<class 'str'>\n"
     ]
    }
   ],
   "source": [
    "print(type(input()))"
   ]
  },
  {
   "cell_type": "markdown",
   "id": "344fa081",
   "metadata": {},
   "source": [
    "#### Variables\n",
    "---\n",
    "When writing a complex program, you usually can't print the answer of your calculation right away. Instead you use variables to store intermediate results.\n",
    "\n",
    "Look at the code section. The first line has three parts: a = 3\n",
    "\n",
    "To the left of the assignment operator* we put a name of variable, in this case, a. The name can be any string of latin characters mixed with numbers and the underscore _ but cannot start with a number. So, much3q1 is a valid name for a variable, and 2pac is not.\n",
    "\n",
    "To the right of the assignment operator* we put any expression that Python can evaluate. It can be 3 as in the code below, or it can be, say, 1 + (2 ** 8) % 5.\n",
    "\n",
    "*The assignment operator is =.\n",
    "\n",
    "Look what we've done: we assigned to the variable a the value of 3. We can read this as \"a is assigned the value of 3\" or \"a gets 3\". All right, now.\n",
    "**Instructions**\n",
    "1. Change the second line to print(a * a), run the program and see what happens.\n",
    "2. Erase the line print(a * a). Type b = a * a * a, type print(b) on the next line, then run the code and see what happens."
   ]
  },
  {
   "cell_type": "code",
   "execution_count": 52,
   "id": "51385b99",
   "metadata": {},
   "outputs": [
    {
     "name": "stdout",
     "output_type": "stream",
     "text": [
      "3\n"
     ]
    }
   ],
   "source": [
    "a = 3\n",
    "print(a)"
   ]
  },
  {
   "cell_type": "code",
   "execution_count": 53,
   "id": "c0a18852",
   "metadata": {},
   "outputs": [
    {
     "name": "stdout",
     "output_type": "stream",
     "text": [
      "9\n"
     ]
    }
   ],
   "source": [
    "a = 3\n",
    "print(a * a)"
   ]
  },
  {
   "cell_type": "code",
   "execution_count": 54,
   "id": "636f631e",
   "metadata": {},
   "outputs": [
    {
     "name": "stdout",
     "output_type": "stream",
     "text": [
      "27\n"
     ]
    }
   ],
   "source": [
    "a = 3\n",
    "b = a * a *a \n",
    "print(b)"
   ]
  },
  {
   "cell_type": "markdown",
   "id": "d2b09883",
   "metadata": {},
   "source": [
    "#### The more variables the better\n",
    "---\n",
    "Never hesitate to introduce different variables! The more variables you introduce, and the more logical the names are, the more readable your code will be."
   ]
  },
  {
   "cell_type": "code",
   "execution_count": 58,
   "id": "ed862afd",
   "metadata": {},
   "outputs": [
    {
     "name": "stdout",
     "output_type": "stream",
     "text": [
      "42.8097902097902\n",
      "42.8097902097902\n"
     ]
    }
   ],
   "source": [
    "# Compare this:\n",
    "print(( 2 ** 10 - 3.7 ) / ( 95 / 6 + 8))\n",
    "\n",
    "# to this:\n",
    "\n",
    "numerator = 2 ** 10 - 3.7\n",
    "denominator = 95 / 6 + 8\n",
    "\n",
    "N = numerator/denominator\n",
    "\n",
    "print(N)"
   ]
  },
  {
   "cell_type": "markdown",
   "id": "320e82be",
   "metadata": {},
   "source": [
    "#### Greet yourself\n",
    "---\n",
    "Here's a program that reads the user's name and greets him.\n",
    "**Instructions**\n",
    "1. Write your own name in the input section! Let the program greet you!"
   ]
  },
  {
   "cell_type": "code",
   "execution_count": 59,
   "id": "a8db4ee2",
   "metadata": {},
   "outputs": [
    {
     "name": "stdout",
     "output_type": "stream",
     "text": [
      "What is your name?\n",
      "Vitaliy\n",
      "Hi Vitaliy!\n"
     ]
    }
   ],
   "source": [
    "print('What is your name?')\n",
    "name = input()  # read a single line and store it in the variable \"name\"\n",
    "print('Hi ' + name + '!')"
   ]
  },
  {
   "cell_type": "markdown",
   "id": "3e5f4a10",
   "metadata": {},
   "source": [
    "#### The very start: summing two numbers\n",
    "---\n",
    "Let's try to write a program that has two numbers as an input and prints their sum.\n",
    "\n",
    "We read the two numbers and store them in the variables a and b.\n",
    "\n",
    "**Instructions**\n",
    "1. Read the code, run it and look at its output."
   ]
  },
  {
   "cell_type": "code",
   "execution_count": 61,
   "id": "eaee1564",
   "metadata": {},
   "outputs": [
    {
     "name": "stdout",
     "output_type": "stream",
     "text": [
      "12\n",
      "5\n",
      "125\n"
     ]
    }
   ],
   "source": [
    "a = input()\n",
    "b = input()\n",
    "s = a + b\n",
    "print(s)"
   ]
  },
  {
   "cell_type": "markdown",
   "id": "2357f90d",
   "metadata": {},
   "source": [
    "#### Oops: you added strings, not numbers\n",
    "---\n",
    "After running the previous example we can see that it prints 57. As we were taught in school, 5 + 7 gives 12. What happened?\n",
    "\n",
    "So, the program does not give the expected result, and it is important to understand why.\n",
    "\n",
    "The reason is, in the line s = a + b Python has joined two strings, rather than adding two numbers. Applying + to two strings in Python just glues one after the other. This is called string concatenation.\n",
    "\n",
    "**Instructions**\n",
    "1. Put two different numbers into the 'input' section, and then watch as they are glued to each other, not added :("
   ]
  },
  {
   "cell_type": "code",
   "execution_count": 60,
   "id": "6887dadb",
   "metadata": {},
   "outputs": [
    {
     "name": "stdout",
     "output_type": "stream",
     "text": [
      "15\n",
      "546\n",
      "561\n"
     ]
    }
   ],
   "source": [
    "a = int(input())\n",
    "b = int(input())\n",
    "sum = (a + b)\n",
    "print(sum)"
   ]
  },
  {
   "cell_type": "markdown",
   "id": "02e9a0e3",
   "metadata": {},
   "source": [
    "#### What are strings and what are numbers\n",
    "---\n",
    "Look at the code below. Do you see that the values bound to variables s and que are wrapped in quotes?\n",
    "\n",
    "That means these values are strings, not numbers. Strings and numbers are represented in Python differently.\n",
    "\n",
    "(It doesn't matter what quotation marks will you use to define a string: these ' ' or these \" \".)"
   ]
  },
  {
   "cell_type": "code",
   "execution_count": 62,
   "id": "ca13667d",
   "metadata": {},
   "outputs": [
    {
     "name": "stdout",
     "output_type": "stream",
     "text": [
      "hadoopwroom\n"
     ]
    }
   ],
   "source": [
    "num = 14       # This is the number\n",
    "s = 'hadoop'   # This is the string\n",
    "que = \"wroom\"   # This is also a string\n",
    "print (s + que)\n",
    "\n",
    "# 'hadoop' and \"wroom\" have different\n",
    "# quotation marks, but Python has no problem\n",
    "# with it,\n",
    "# and the output is\n",
    "# 'hadoopwroom'"
   ]
  },
  {
   "cell_type": "markdown",
   "id": "170a96b9",
   "metadata": {},
   "source": [
    "#### I can't multiply strings :(\n",
    "---\n",
    "All the values in Python are called objects. Every object has a certain type. The number 2 corresponds to an object \"2\" of type \"int\" (i.e., an integer number).\n",
    "\n",
    "The string 'hello' corresponds to an object \"hello\" of type \"str\".\n",
    "\n",
    "Every real number can be represented as an object of type \"float\".\n",
    "\n",
    "The type of an object specifies what kind of operations may be applied to it. For instance, if the two variables \"first\" and \"second\" are pointing to the objects of type int, Python can multiply them. However, Python can't multiply strings."
   ]
  },
  {
   "cell_type": "code",
   "execution_count": 63,
   "id": "e63d089f",
   "metadata": {},
   "outputs": [
    {
     "name": "stdout",
     "output_type": "stream",
     "text": [
      "35\n"
     ]
    },
    {
     "ename": "TypeError",
     "evalue": "can't multiply sequence by non-int of type 'str'",
     "output_type": "error",
     "traceback": [
      "\u001b[1;31m---------------------------------------------------------------------------\u001b[0m",
      "\u001b[1;31mTypeError\u001b[0m                                 Traceback (most recent call last)",
      "Input \u001b[1;32mIn [63]\u001b[0m, in \u001b[0;36m<cell line: 8>\u001b[1;34m()\u001b[0m\n\u001b[0;32m      6\u001b[0m first \u001b[38;5;241m=\u001b[39m \u001b[38;5;124m'\u001b[39m\u001b[38;5;124m5\u001b[39m\u001b[38;5;124m'\u001b[39m\n\u001b[0;32m      7\u001b[0m second \u001b[38;5;241m=\u001b[39m \u001b[38;5;124m\"\u001b[39m\u001b[38;5;124m7\u001b[39m\u001b[38;5;124m\"\u001b[39m\n\u001b[1;32m----> 8\u001b[0m \u001b[38;5;28mprint\u001b[39m(\u001b[43mfirst\u001b[49m\u001b[43m \u001b[49m\u001b[38;5;241;43m*\u001b[39;49m\u001b[43m \u001b[49m\u001b[43msecond\u001b[49m)\n",
      "\u001b[1;31mTypeError\u001b[0m: can't multiply sequence by non-int of type 'str'"
     ]
    }
   ],
   "source": [
    "first = 5\n",
    "second = 7\n",
    "print(first * second)\n",
    "\n",
    "# you can use single or double quotes to define a string\n",
    "first = '5'\n",
    "second = \"7\"\n",
    "print(first * second)"
   ]
  },
  {
   "cell_type": "markdown",
   "id": "58dbf7df",
   "metadata": {},
   "source": [
    "The first three lines of code here successfully gave us the result of multiplication, and the last three lines gave us the error."
   ]
  },
  {
   "cell_type": "markdown",
   "id": "9eb878a8",
   "metadata": {},
   "source": [
    "#### Transformers: transforming strings to integers\n",
    "---\n",
    "To cast the string of digits into an integer number, we can use the function int(). Eg., int('23') transforms the string '23' into the number 23, and int(input()) transforms the input string into an integer (if the input is made of digits!).\n",
    "\n",
    "**Instructions**\n",
    "1. Read the number from input, then transform it to integer using int() and print the result."
   ]
  },
  {
   "cell_type": "code",
   "execution_count": 65,
   "id": "40a9623d",
   "metadata": {},
   "outputs": [
    {
     "name": "stdout",
     "output_type": "stream",
     "text": [
      "365\n",
      "<class 'str'> <class 'int'>\n"
     ]
    }
   ],
   "source": [
    "num = input()\n",
    "num_int = int(num)\n",
    "print(type(num), type(num_int))"
   ]
  },
  {
   "cell_type": "markdown",
   "id": "e8d0cc63",
   "metadata": {},
   "source": [
    "#### Summing numbers, not strings\n",
    "---\n",
    "Using the magic of int(), we can now fix our incorrect program to sum the two numbers:"
   ]
  },
  {
   "cell_type": "code",
   "execution_count": 67,
   "id": "a913b41f",
   "metadata": {},
   "outputs": [
    {
     "name": "stdout",
     "output_type": "stream",
     "text": [
      "7\n",
      "5\n",
      "12\n"
     ]
    }
   ],
   "source": [
    "a = int(input())\n",
    "# the function input() reads the first string, then int() casts it into the integer 5 \n",
    "b = int(input())\n",
    "# reads the second string, then casts it into the integer 7\n",
    "s = a + b\n",
    "print(s)"
   ]
  },
  {
   "cell_type": "markdown",
   "id": "4cac87e7",
   "metadata": {},
   "source": [
    "This is when we're rewarded for watching the types! 5+7 resulted in 12! Hooray!\n",
    "\n",
    "Congratulations. This is the end of the first level. You've passed it. Now try to solve some problems!"
   ]
  },
  {
   "cell_type": "markdown",
   "id": "949b9a25",
   "metadata": {},
   "source": [
    "## Problems\n",
    "---\n",
    "[Ссылка на раздел урока](https://snakify.org/en/lessons/print_input_numbers/problems/)"
   ]
  },
  {
   "cell_type": "markdown",
   "id": "c09c2784",
   "metadata": {},
   "source": [
    "#### Problem «Sum of three numbers»\n",
    "---\n",
    "**Statement**\n",
    "\n",
    "Write a program that takes three numbers and prints their sum. Every number is given on a separate line.\n",
    "\n",
    "**Your solution**"
   ]
  },
  {
   "cell_type": "code",
   "execution_count": 68,
   "id": "66113ca4",
   "metadata": {},
   "outputs": [
    {
     "name": "stdout",
     "output_type": "stream",
     "text": [
      "5\n",
      "6\n",
      "8\n",
      "19\n"
     ]
    }
   ],
   "source": [
    "a = int(input())\n",
    "b = int(input())\n",
    "с = int(input())\n",
    "print(a + b + с)"
   ]
  },
  {
   "cell_type": "markdown",
   "id": "f757cd09",
   "metadata": {},
   "source": [
    "**Suggested solution**"
   ]
  },
  {
   "cell_type": "code",
   "execution_count": 69,
   "id": "5b98e110",
   "metadata": {},
   "outputs": [
    {
     "name": "stdout",
     "output_type": "stream",
     "text": [
      "1\n",
      "5\n",
      "7\n",
      "13\n"
     ]
    }
   ],
   "source": [
    "a = int(input())\n",
    "b = int(input())\n",
    "c = int(input())\n",
    "print(a + b + c)"
   ]
  },
  {
   "cell_type": "markdown",
   "id": "83758277",
   "metadata": {},
   "source": [
    "#### Problem «Hi John»\n",
    "---\n",
    "**Statement**\n",
    "\n",
    "Write a program that greets the person by printing the word \"Hi\" and the name of the person. See the examples below.\n",
    "\n",
    "**Your solution**"
   ]
  },
  {
   "cell_type": "code",
   "execution_count": 70,
   "id": "7efb59e8",
   "metadata": {},
   "outputs": [
    {
     "name": "stdout",
     "output_type": "stream",
     "text": [
      "Vitaliy\n",
      "Hi Vitaliy\n"
     ]
    }
   ],
   "source": [
    "print('Hi', input())"
   ]
  },
  {
   "cell_type": "markdown",
   "id": "ac7333a1",
   "metadata": {},
   "source": [
    "**Suggested solution**"
   ]
  },
  {
   "cell_type": "code",
   "execution_count": 71,
   "id": "038d93ef",
   "metadata": {},
   "outputs": [
    {
     "name": "stdout",
     "output_type": "stream",
     "text": [
      "Vitaliy\n",
      "Hi Vitaliy\n"
     ]
    }
   ],
   "source": [
    "# Read the name:\n",
    "name = input()\n",
    "\n",
    "# Print the result using\n",
    "print('Hi', name)"
   ]
  },
  {
   "cell_type": "markdown",
   "id": "cc652ecc",
   "metadata": {},
   "source": [
    "#### Problem «Square»\n",
    "---\n",
    "**Statement**\n",
    "\n",
    "Write a program that takes a number and print its square.\n",
    "\n",
    "**Your solution**"
   ]
  },
  {
   "cell_type": "code",
   "execution_count": 72,
   "id": "f6f5a70a",
   "metadata": {},
   "outputs": [
    {
     "name": "stdout",
     "output_type": "stream",
     "text": [
      "5\n",
      "25\n"
     ]
    }
   ],
   "source": [
    "print(int(input()) ** 2)"
   ]
  },
  {
   "cell_type": "markdown",
   "id": "a9cad380",
   "metadata": {},
   "source": [
    "**Suggested solution**"
   ]
  },
  {
   "cell_type": "code",
   "execution_count": 73,
   "id": "570da38f",
   "metadata": {},
   "outputs": [
    {
     "name": "stdout",
     "output_type": "stream",
     "text": [
      "5\n",
      "25\n"
     ]
    }
   ],
   "source": [
    "a = int(input())\n",
    "\n",
    "print(a ** 2)"
   ]
  },
  {
   "cell_type": "markdown",
   "id": "019864aa",
   "metadata": {},
   "source": [
    "#### Problem «Area of right-angled triangle»\n",
    "---\n",
    "**Statement**\n",
    "\n",
    "Write a program that reads the length of the base and the height of a right-angled triangle and prints the area. Every number is given on a separate line.\n",
    "\n",
    "**Your solution**"
   ]
  },
  {
   "cell_type": "code",
   "execution_count": 74,
   "id": "e6339586",
   "metadata": {},
   "outputs": [
    {
     "name": "stdout",
     "output_type": "stream",
     "text": [
      "5\n",
      "7\n",
      "17.5\n"
     ]
    }
   ],
   "source": [
    "a = int(input())\n",
    "b = int(input())\n",
    "\n",
    "area = a * b / 2\n",
    "\n",
    "print(area)"
   ]
  },
  {
   "cell_type": "markdown",
   "id": "c9cdcbe2",
   "metadata": {},
   "source": [
    "**Suggested solution**"
   ]
  },
  {
   "cell_type": "code",
   "execution_count": 75,
   "id": "f348bda1",
   "metadata": {},
   "outputs": [
    {
     "name": "stdout",
     "output_type": "stream",
     "text": [
      "5\n",
      "7\n",
      "17.5\n"
     ]
    }
   ],
   "source": [
    "a = int(input())\n",
    "b = int(input())\n",
    "print(a * b / 2)"
   ]
  },
  {
   "cell_type": "markdown",
   "id": "0c23bac8",
   "metadata": {},
   "source": [
    "#### Problem «Hello, Harry!»\n",
    "---\n",
    "**Statement**\n",
    "\n",
    "Write a program that greets the user by printing the word \"Hello\", a comma, the name of the user and an exclamation mark after it. See the examples below.\n",
    "Warning. Your program's output should strictly match the desired one, character by character. There shouldn't be any space between the name and the exclamation mark. You can use + operator to concatenate two strings. See the lesson for details.\n",
    "\n",
    "**Your solution**"
   ]
  },
  {
   "cell_type": "code",
   "execution_count": 77,
   "id": "11b3ecdd",
   "metadata": {},
   "outputs": [
    {
     "name": "stdout",
     "output_type": "stream",
     "text": [
      "qwerty\n",
      "Hello, qwerty!\n"
     ]
    }
   ],
   "source": [
    "print('Hello,', input() + '!')"
   ]
  },
  {
   "cell_type": "markdown",
   "id": "84ff81c2",
   "metadata": {},
   "source": [
    "**Suggested solution**"
   ]
  },
  {
   "cell_type": "code",
   "execution_count": 78,
   "id": "a55c876f",
   "metadata": {},
   "outputs": [
    {
     "name": "stdout",
     "output_type": "stream",
     "text": [
      "qwerty\n",
      "Hello, qwerty!\n"
     ]
    }
   ],
   "source": [
    "print('Hello,', input() + '!')"
   ]
  },
  {
   "cell_type": "markdown",
   "id": "53561dd2",
   "metadata": {},
   "source": [
    "#### Problem «Apple sharing»\n",
    "---\n",
    "**Statement**\n",
    "\n",
    "N students take K apples and distribute them among each other evenly. The remaining (the undivisible) part remains in the basket. How many apples will each single student get? How many apples will remain in the basket?\n",
    "The program reads the numbers N and K. It should print the two answers for the questions above.\n",
    "\n",
    "**Your solution**"
   ]
  },
  {
   "cell_type": "code",
   "execution_count": 79,
   "id": "4f1bbb7a",
   "metadata": {},
   "outputs": [
    {
     "name": "stdout",
     "output_type": "stream",
     "text": [
      "5\n",
      "10\n",
      "2\n",
      "0\n"
     ]
    }
   ],
   "source": [
    "N = int(input()) #  students\n",
    "k = int(input()) #  apples\n",
    "\n",
    "print(k // N)\n",
    "print(k % N)"
   ]
  },
  {
   "cell_type": "markdown",
   "id": "f8c9f173",
   "metadata": {},
   "source": [
    "**Suggested solution**"
   ]
  },
  {
   "cell_type": "code",
   "execution_count": 80,
   "id": "6fe5ed74",
   "metadata": {},
   "outputs": [
    {
     "name": "stdout",
     "output_type": "stream",
     "text": [
      "5\n",
      "10\n",
      "2\n",
      "0\n"
     ]
    }
   ],
   "source": [
    "n = int(input())\n",
    "k = int(input())\n",
    "print(k // n)\n",
    "print(k % n)"
   ]
  },
  {
   "cell_type": "markdown",
   "id": "b6abf3a5",
   "metadata": {},
   "source": [
    "#### Problem «Previous and next»\n",
    "---\n",
    "**Statement**\n",
    "\n",
    "Write a program that reads an integer number and prints its previous and next numbers. See the examples below for the exact format your answers should take. There shouldn't be a space before the period.\n",
    "Remember that you can convert the numbers to strings using the function str.\n",
    "\n",
    "**Your solution**"
   ]
  },
  {
   "cell_type": "code",
   "execution_count": 82,
   "id": "44b968d3",
   "metadata": {},
   "outputs": [
    {
     "name": "stdout",
     "output_type": "stream",
     "text": [
      "123456\n",
      "The next number for the number 123456 is 123457.\n",
      "The previous number for the number 123456 is 123455.\n"
     ]
    }
   ],
   "source": [
    "num = input()\n",
    "\n",
    "print('The next number for the number', num, 'is', str(int(num) + 1) + '.')\n",
    "print('The previous number for the number', num, 'is', str(int(num) - 1) + '.')"
   ]
  },
  {
   "cell_type": "markdown",
   "id": "4ec4606a",
   "metadata": {},
   "source": [
    "**Suggested solution**"
   ]
  },
  {
   "cell_type": "code",
   "execution_count": 83,
   "id": "5687b195",
   "metadata": {},
   "outputs": [
    {
     "name": "stdout",
     "output_type": "stream",
     "text": [
      "1564\n",
      "The next number for the number 1564 is 1565.\n",
      "The previous number for the number 1564 is 1563.\n"
     ]
    }
   ],
   "source": [
    "n = int(input())\n",
    "print('The next number for the number ' + str(n) + ' is ' + str(n + 1) + '.')\n",
    "print('The previous number for the number ' + str(n) + ' is ' + str(n - 1) + '.')"
   ]
  },
  {
   "cell_type": "markdown",
   "id": "38ccebb3",
   "metadata": {},
   "source": [
    "#### Problem «Two timestamps»\n",
    "---\n",
    "**Statement**\n",
    "\n",
    "A timestamp is three numbers: a number of hours, minutes and seconds. Given two timestamps, calculate how many seconds is between them. The moment of the first timestamp occurred before the moment of the second timestamp.\n",
    "\n",
    "**Your solution**"
   ]
  },
  {
   "cell_type": "code",
   "execution_count": 86,
   "id": "c6f00784",
   "metadata": {},
   "outputs": [
    {
     "name": "stdout",
     "output_type": "stream",
     "text": [
      "2\n",
      "35\n",
      "50\n",
      "4\n",
      "15\n",
      "25\n",
      "5975\n"
     ]
    }
   ],
   "source": [
    "h1, m1, s1, h2, m2, s2 = int(input()), int(input()), int(input()), int(input()), int(input()), int(input())\n",
    "\n",
    "print((h2-h1)*3600 + (m2-m1)*60 + s2-s1)"
   ]
  },
  {
   "cell_type": "markdown",
   "id": "9dee3133",
   "metadata": {},
   "source": [
    "**Suggested solution**"
   ]
  },
  {
   "cell_type": "code",
   "execution_count": 87,
   "id": "b0c78214",
   "metadata": {},
   "outputs": [
    {
     "name": "stdout",
     "output_type": "stream",
     "text": [
      "2\n",
      "35\n",
      "50\n",
      "4\n",
      "15\n",
      "25\n",
      "5975\n"
     ]
    }
   ],
   "source": [
    "hours_1 = int(input())\n",
    "minutes_1 = int(input())\n",
    "seconds_1 = int(input())\n",
    "hours_2 = int(input())\n",
    "minutes_2 = int(input())\n",
    "seconds_2 = int(input())\n",
    "print(hours_2 * 3600 + minutes_2 * 60 + seconds_2\n",
    "    - hours_1 * 3600 - minutes_1 * 60 - seconds_1)"
   ]
  },
  {
   "cell_type": "markdown",
   "id": "3196b8a8",
   "metadata": {},
   "source": [
    "#### Problem «School desks»\n",
    "---\n",
    "**Statement**\n",
    "\n",
    "A school decided to replace the desks in three classrooms. Each desk sits two students. Given the number of students in each class, print the smallest possible number of desks that can be purchased.\n",
    "The program should read three integers: the number of students in each of the three classes, a, b and c respectively.\n",
    "\n",
    "In the first test there are three groups. The first group has 20 students and thus needs 10 desks. The second group has 21 students, so they can get by with no fewer than 11 desks. 11 desks is also enough for the third group of 22 students. So we need 32 desks in total.\n",
    "\n",
    "**Your solution**"
   ]
  },
  {
   "cell_type": "code",
   "execution_count": 88,
   "id": "42b271f9",
   "metadata": {},
   "outputs": [
    {
     "name": "stdout",
     "output_type": "stream",
     "text": [
      "5\n",
      "6\n",
      "7\n",
      "10\n"
     ]
    }
   ],
   "source": [
    "a, b, c = int(input()), int(input()), int(input())\n",
    "\n",
    "print(a//2 + b//2+ c//2 + a%2 + b%2 + c%2)"
   ]
  },
  {
   "cell_type": "markdown",
   "id": "082bcb9a",
   "metadata": {},
   "source": [
    "**Suggested solution**"
   ]
  },
  {
   "cell_type": "code",
   "execution_count": 89,
   "id": "62ef0333",
   "metadata": {},
   "outputs": [
    {
     "name": "stdout",
     "output_type": "stream",
     "text": [
      "5\n",
      "6\n",
      "7\n",
      "10\n"
     ]
    }
   ],
   "source": [
    "a = int(input())\n",
    "b = int(input())\n",
    "c = int(input())\n",
    "print(a // 2 + b // 2 + c // 2 + a % 2 + b % 2 + c % 2)"
   ]
  },
  {
   "cell_type": "markdown",
   "id": "d7ef0bd3",
   "metadata": {},
   "source": [
    "# Lesson 2 - Integer and float numbers\n",
    "---\n",
    "[Ссылка на урок](https://snakify.org/en/lessons/integer_float_numbers/)\n",
    "\n",
    "[Ссылка на документацию Python](https://docs.python.org/3.11/tutorial/index.html)"
   ]
  },
  {
   "cell_type": "markdown",
   "id": "8126faee",
   "metadata": {},
   "source": [
    "## Theory\n",
    "---\n",
    "[Ссылка на раздел урока](https://snakify.org/en/lessons/integer_float_numbers/#)"
   ]
  },
  {
   "cell_type": "markdown",
   "id": "0cccab87",
   "metadata": {},
   "source": [
    "### Integer arithmetics"
   ]
  },
  {
   "cell_type": "code",
   "execution_count": null,
   "id": "389d8f43",
   "metadata": {},
   "outputs": [],
   "source": []
  },
  {
   "cell_type": "markdown",
   "id": "40c05eef",
   "metadata": {},
   "source": [
    "## Steps\n",
    "---\n",
    "[Ссылка на раздел урока](https://snakify.org/en/lessons/integer_float_numbers/steps/1/)"
   ]
  },
  {
   "cell_type": "code",
   "execution_count": null,
   "id": "1d695e84",
   "metadata": {},
   "outputs": [],
   "source": []
  },
  {
   "cell_type": "markdown",
   "id": "e614526b",
   "metadata": {},
   "source": [
    "## Problems\n",
    "---\n",
    "[Ссылка на раздел урока](https://snakify.org/en/lessons/integer_float_numbers/problems/)"
   ]
  },
  {
   "cell_type": "code",
   "execution_count": null,
   "id": "fca67fd9",
   "metadata": {},
   "outputs": [],
   "source": []
  }
 ],
 "metadata": {
  "kernelspec": {
   "display_name": "Python 3 (ipykernel)",
   "language": "python",
   "name": "python3"
  },
  "language_info": {
   "codemirror_mode": {
    "name": "ipython",
    "version": 3
   },
   "file_extension": ".py",
   "mimetype": "text/x-python",
   "name": "python",
   "nbconvert_exporter": "python",
   "pygments_lexer": "ipython3",
   "version": "3.9.12"
  },
  "toc": {
   "base_numbering": 1,
   "nav_menu": {},
   "number_sections": true,
   "sideBar": true,
   "skip_h1_title": false,
   "title_cell": "Table of Contents",
   "title_sidebar": "Contents",
   "toc_cell": false,
   "toc_position": {
    "height": "calc(100% - 180px)",
    "left": "10px",
    "top": "150px",
    "width": "232.727px"
   },
   "toc_section_display": true,
   "toc_window_display": true
  }
 },
 "nbformat": 4,
 "nbformat_minor": 5
}
